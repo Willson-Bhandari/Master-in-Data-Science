{
 "cells": [
  {
   "cell_type": "markdown",
   "id": "c72ede1e-3766-49ca-9ee2-17bbdaed81b5",
   "metadata": {},
   "source": [
    "### 29th Jan "
   ]
  },
  {
   "cell_type": "code",
   "execution_count": 1,
   "id": "81e1dad7-80f1-43af-acaf-9eeaa8bcd2b6",
   "metadata": {},
   "outputs": [
    {
     "data": {
      "text/plain": [
       "2"
      ]
     },
     "execution_count": 1,
     "metadata": {},
     "output_type": "execute_result"
    }
   ],
   "source": [
    "1+1"
   ]
  },
  {
   "cell_type": "code",
   "execution_count": 9,
   "id": "cb379727-8f65-4c66-a93b-ddbcd424f511",
   "metadata": {},
   "outputs": [
    {
     "name": "stdout",
     "output_type": "stream",
     "text": [
      "my first python code\n"
     ]
    }
   ],
   "source": [
    "print( \"my first python code\" )"
   ]
  },
  {
   "cell_type": "code",
   "execution_count": 7,
   "id": "9214df0f-931a-472c-ad48-edec4361a987",
   "metadata": {},
   "outputs": [
    {
     "name": "stdout",
     "output_type": "stream",
     "text": [
      "2\n"
     ]
    }
   ],
   "source": [
    "print (1+1)"
   ]
  },
  {
   "cell_type": "code",
   "execution_count": 14,
   "id": "e0958ca1-51d2-4f5c-bd2c-1daf7fe07661",
   "metadata": {},
   "outputs": [
    {
     "name": "stdout",
     "output_type": "stream",
     "text": [
      "python needs double quotation() mark to print word in the print function\n"
     ]
    }
   ],
   "source": [
    "print(\"python needs double quotation(\"\") mark to print word in the print function\")"
   ]
  },
  {
   "cell_type": "code",
   "execution_count": null,
   "id": "98c8d5c1-9a26-4c8e-aee6-57f49808b16a",
   "metadata": {},
   "outputs": [],
   "source": []
  },
  {
   "cell_type": "markdown",
   "id": "b4d5c6fa-7b23-401f-9214-870e86157c9b",
   "metadata": {},
   "source": [
    "## 30th Jan "
   ]
  },
  {
   "cell_type": "code",
   "execution_count": 3,
   "id": "79958c59-3553-499a-abf9-005a6e24f306",
   "metadata": {},
   "outputs": [
    {
     "data": {
      "text/plain": [
       "True"
      ]
     },
     "execution_count": 3,
     "metadata": {},
     "output_type": "execute_result"
    }
   ],
   "source": [
    "bool(-1)"
   ]
  },
  {
   "cell_type": "code",
   "execution_count": 4,
   "id": "06c01588-9863-45a6-ad21-ffa88f9b577e",
   "metadata": {},
   "outputs": [
    {
     "data": {
      "text/plain": [
       "True"
      ]
     },
     "execution_count": 4,
     "metadata": {},
     "output_type": "execute_result"
    }
   ],
   "source": [
    "bool(-2)"
   ]
  },
  {
   "cell_type": "code",
   "execution_count": 5,
   "id": "56885456-80b4-4ef1-97d9-fa49a20c7865",
   "metadata": {},
   "outputs": [
    {
     "data": {
      "text/plain": [
       "True"
      ]
     },
     "execution_count": 5,
     "metadata": {},
     "output_type": "execute_result"
    }
   ],
   "source": [
    "bool(-2)"
   ]
  },
  {
   "cell_type": "code",
   "execution_count": 6,
   "id": "d36dcf4c-217d-4b48-ab57-d1f1ac5888a5",
   "metadata": {},
   "outputs": [
    {
     "data": {
      "text/plain": [
       "False"
      ]
     },
     "execution_count": 6,
     "metadata": {},
     "output_type": "execute_result"
    }
   ],
   "source": [
    "bool(-0)"
   ]
  },
  {
   "cell_type": "code",
   "execution_count": 7,
   "id": "74a99356-4e52-438c-a997-1f3af73de97e",
   "metadata": {},
   "outputs": [
    {
     "data": {
      "text/plain": [
       "True"
      ]
     },
     "execution_count": 7,
     "metadata": {},
     "output_type": "execute_result"
    }
   ],
   "source": [
    "bool(100)"
   ]
  },
  {
   "cell_type": "code",
   "execution_count": 8,
   "id": "9b2539fe-5a2f-45d6-a16e-7c1a88d1dbb5",
   "metadata": {},
   "outputs": [
    {
     "data": {
      "text/plain": [
       "False"
      ]
     },
     "execution_count": 8,
     "metadata": {},
     "output_type": "execute_result"
    }
   ],
   "source": [
    "bool(0)"
   ]
  },
  {
   "cell_type": "code",
   "execution_count": 11,
   "id": "25c79fac-3631-45d1-b173-70be75c10165",
   "metadata": {},
   "outputs": [
    {
     "data": {
      "text/plain": [
       "True"
      ]
     },
     "execution_count": 11,
     "metadata": {},
     "output_type": "execute_result"
    }
   ],
   "source": [
    "bool('good')"
   ]
  },
  {
   "cell_type": "code",
   "execution_count": 12,
   "id": "6c844107-ba05-4e25-935e-ec49644b606c",
   "metadata": {},
   "outputs": [],
   "source": [
    "## great learn something "
   ]
  },
  {
   "cell_type": "code",
   "execution_count": 15,
   "id": "e100774a-4179-4a1a-a77c-67c016204b9f",
   "metadata": {},
   "outputs": [
    {
     "data": {
      "text/plain": [
       "2"
      ]
     },
     "execution_count": 15,
     "metadata": {},
     "output_type": "execute_result"
    }
   ],
   "source": [
    "#This is single line comment and \n",
    "\n",
    "\"\"\"\n",
    "This is multi line comment \n",
    "i'm learning it by doing not just reading\n",
    "\n",
    "\"\"\"\n",
    "(1+1)"
   ]
  },
  {
   "cell_type": "code",
   "execution_count": 16,
   "id": "7e2fc8eb-2d47-46df-80e1-0efe9072ac93",
   "metadata": {},
   "outputs": [
    {
     "data": {
      "text/plain": [
       "'1111111111'"
      ]
     },
     "execution_count": 16,
     "metadata": {},
     "output_type": "execute_result"
    }
   ],
   "source": [
    "\"1\" *10"
   ]
  },
  {
   "cell_type": "code",
   "execution_count": 17,
   "id": "aed10407-56e7-4691-bec6-3f9b71018a8c",
   "metadata": {},
   "outputs": [
    {
     "data": {
      "text/plain": [
       "'11'"
      ]
     },
     "execution_count": 17,
     "metadata": {},
     "output_type": "execute_result"
    }
   ],
   "source": [
    "#this will not work like below\n",
    "#ie\n",
    "\"1\"+\"1\""
   ]
  },
  {
   "cell_type": "code",
   "execution_count": 24,
   "id": "29d8eb2f-94f1-47eb-ba92-9203cc8c17f7",
   "metadata": {},
   "outputs": [
    {
     "name": "stdout",
     "output_type": "stream",
     "text": [
      "willson bhandari\n",
      "willsonbhandari\n"
     ]
    }
   ],
   "source": [
    "print(\"willson\"+\" bhandari\")\n",
    "print(\"willson\"+\"bhandari\")\n",
    "#see the difference"
   ]
  },
  {
   "cell_type": "code",
   "execution_count": 1,
   "id": "1eb1143e-649d-4dd3-8eb1-8b0042b2b01e",
   "metadata": {},
   "outputs": [
    {
     "data": {
      "text/plain": [
       "4"
      ]
     },
     "execution_count": 1,
     "metadata": {},
     "output_type": "execute_result"
    }
   ],
   "source": [
    "2+2"
   ]
  },
  {
   "cell_type": "code",
   "execution_count": null,
   "id": "d3aedc1a-5b68-4b84-9a93-e21ecf938129",
   "metadata": {},
   "outputs": [],
   "source": []
  },
  {
   "cell_type": "code",
   "execution_count": null,
   "id": "ca9c5ea1-1977-49a4-8634-dd1574233923",
   "metadata": {},
   "outputs": [],
   "source": []
  },
  {
   "cell_type": "code",
   "execution_count": null,
   "id": "51b62e2a-6724-4bb8-9396-25eb21ef04d9",
   "metadata": {},
   "outputs": [],
   "source": []
  },
  {
   "cell_type": "code",
   "execution_count": 4,
   "id": "34df91ca-3129-4dea-af31-69e16e069203",
   "metadata": {},
   "outputs": [
    {
     "name": "stdout",
     "output_type": "stream",
     "text": [
      "every thing in this lab is okay till now\n"
     ]
    }
   ],
   "source": [
    "print(\"every thing in this lab is okay till now\")"
   ]
  },
  {
   "cell_type": "code",
   "execution_count": null,
   "id": "55d57d60-d0a1-4abd-8f04-7bb67d9a6653",
   "metadata": {},
   "outputs": [],
   "source": []
  }
 ],
 "metadata": {
  "kernelspec": {
   "display_name": "Python 3 (ipykernel)",
   "language": "python",
   "name": "python3"
  },
  "language_info": {
   "codemirror_mode": {
    "name": "ipython",
    "version": 3
   },
   "file_extension": ".py",
   "mimetype": "text/x-python",
   "name": "python",
   "nbconvert_exporter": "python",
   "pygments_lexer": "ipython3",
   "version": "3.10.8"
  }
 },
 "nbformat": 4,
 "nbformat_minor": 5
}
